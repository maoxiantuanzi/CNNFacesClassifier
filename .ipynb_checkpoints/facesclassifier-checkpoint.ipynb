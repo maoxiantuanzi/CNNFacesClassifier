{
 "cells": [
  {
   "cell_type": "code",
   "execution_count": 1,
   "metadata": {
    "collapsed": true
   },
   "outputs": [],
   "source": [
    "import numpy as np"
   ]
  },
  {
   "cell_type": "code",
   "execution_count": 2,
   "metadata": {
    "collapsed": true
   },
   "outputs": [],
   "source": [
    "import os"
   ]
  },
  {
   "cell_type": "code",
   "execution_count": 3,
   "metadata": {
    "collapsed": true
   },
   "outputs": [],
   "source": [
    "import pickle"
   ]
  },
  {
   "cell_type": "code",
   "execution_count": 4,
   "metadata": {
    "collapsed": true
   },
   "outputs": [],
   "source": [
    "import random"
   ]
  },
  {
   "cell_type": "code",
   "execution_count": 5,
   "metadata": {
    "collapsed": true
   },
   "outputs": [],
   "source": [
    "from PIL import Image "
   ]
  },
  {
   "cell_type": "markdown",
   "metadata": {},
   "source": [
    "#读取原始图片并转化为numpy.ndarray，将灰度值由0～256转换到0～1:  "
   ]
  },
  {
   "cell_type": "code",
   "execution_count": 6,
   "metadata": {
    "collapsed": true
   },
   "outputs": [],
   "source": [
    "img = Image.open('olivettifaces.gif')"
   ]
  },
  {
   "cell_type": "code",
   "execution_count": 7,
   "metadata": {
    "collapsed": true
   },
   "outputs": [],
   "source": [
    "img_ndarray = np.asarray(img, dtype='float64')/256  "
   ]
  },
  {
   "cell_type": "markdown",
   "metadata": {},
   "source": [
    "#图片大小是1190×942，一共20×20个人脸图，故每张人脸图大小为（1190/20）×（942/20）即57×47=2679  \n",
    "#将全部400个样本存储为一个400×2679的数组，每一行即代表一个人脸图，并且第0～9、10～19、20～29...行分别属于同个人脸  \n",
    "#另外，用<span style=\"font-family: SimSun;\">olivettifaces_label</span>表示每一个样本的类别，它是400维的向量，有0～39共40类，代表40个不同的人。  \n"
   ]
  },
  {
   "cell_type": "code",
   "execution_count": 8,
   "metadata": {
    "collapsed": true
   },
   "outputs": [],
   "source": [
    "olivettifaces=np.empty((400,2679))  \n",
    "for row in range(20):  \n",
    "    for column in range(20):  \n",
    "        olivettifaces[row*20+column]=np.ndarray.flatten(img_ndarray [row*57:(row+1)*57,column*47:(column+1)*47])"
   ]
  },
  {
   "cell_type": "code",
   "execution_count": 9,
   "metadata": {},
   "outputs": [
    {
     "name": "stdout",
     "output_type": "stream",
     "text": [
      "(400, 2679)\n"
     ]
    }
   ],
   "source": [
    "print(olivettifaces.shape)"
   ]
  },
  {
   "cell_type": "markdown",
   "metadata": {},
   "source": [
    "#建一个<span style=\"font-family: SimSun;\">olivettifaces_label</span> "
   ]
  },
  {
   "cell_type": "code",
   "execution_count": 10,
   "metadata": {
    "collapsed": true
   },
   "outputs": [],
   "source": [
    "olivettifaces_label=np.empty(400)  \n",
    "for label in range(40):  \n",
    "    olivettifaces_label[label*10:label*10+10]=label  \n",
    "olivettifaces_label=olivettifaces_label.astype(np.int)"
   ]
  },
  {
   "cell_type": "code",
   "execution_count": 11,
   "metadata": {},
   "outputs": [
    {
     "name": "stdout",
     "output_type": "stream",
     "text": [
      "(400,)\n"
     ]
    }
   ],
   "source": [
    "print(olivettifaces_label.shape)"
   ]
  },
  {
   "cell_type": "markdown",
   "metadata": {},
   "source": [
    "#保存olivettifaces以及olivettifaces_label到olivettifaces.pkl文件,这个文件存储了一个400×2679的向量和一个400×1的向量，代表样本及样本类别"
   ]
  },
  {
   "cell_type": "code",
   "execution_count": 12,
   "metadata": {
    "collapsed": true
   },
   "outputs": [],
   "source": [
    "write_file=open('olivettifaces.pkl','wb')    \n",
    "pickle.dump(olivettifaces,write_file,-1)    \n",
    "pickle.dump(olivettifaces_label,write_file,-1)    \n",
    "write_file.close()"
   ]
  },
  {
   "cell_type": "markdown",
   "metadata": {},
   "source": [
    "要查看单张图片，必须先将代表图片的2679维的向量reshape，如：faces[1].reshape(57,47)。调用pylab显示图片"
   ]
  },
  {
   "cell_type": "code",
   "execution_count": 13,
   "metadata": {
    "collapsed": true
   },
   "outputs": [],
   "source": [
    "import pylab"
   ]
  },
  {
   "cell_type": "code",
   "execution_count": 14,
   "metadata": {},
   "outputs": [
    {
     "data": {
      "image/png": "[encoded data removed]",
      "text/plain": [
       "<matplotlib.figure.Figure at 0x7fc27c0ce5c0>"
      ]
     },
     "metadata": {},
     "output_type": "display_data"
    }
   ],
   "source": [
    "read_file=open('olivettifaces.pkl','rb')    \n",
    "faces=pickle.load(read_file)  \n",
    "read_file.close()   \n",
    "img1=faces[1].reshape(57,47)  \n",
    "pylab.imshow(img1)  \n",
    "pylab.gray()  \n",
    "pylab.show()  "
   ]
  },
  {
   "cell_type": "code",
   "execution_count": 29,
   "metadata": {},
   "outputs": [
    {
     "name": "stdout",
     "output_type": "stream",
     "text": [
      "(400, 2679)\n",
      "(400, 57, 47, 1)\n"
     ]
    },
    {
     "data": {
      "image/png": "[encoded data removed]",
      "text/plain": [
       "<matplotlib.figure.Figure at 0x7fc257381320>"
      ]
     },
     "metadata": {},
     "output_type": "display_data"
    }
   ],
   "source": [
    "print(faces.shape)\n",
    "faces1=np.empty((400,57,47,1))\n",
    "for i in range(400):\n",
    "    faces1[i]=faces[i].reshape(57,47)[:,:,np.newaxis]\n",
    "print(faces1.shape)\n",
    "img1=faces1[20].squeeze() \n",
    "pylab.imshow(img1)  \n",
    "pylab.gray()  \n",
    "pylab.show() "
   ]
  },
  {
   "cell_type": "markdown",
   "metadata": {},
   "source": [
    "读取olivettifaces.pkl文件，分为训练集（40×8个样本），验证集（40×1个样本），测试集（40×1个样本）"
   ]
  },
  {
   "cell_type": "code",
   "execution_count": 30,
   "metadata": {
    "collapsed": true
   },
   "outputs": [],
   "source": [
    "read_file=open('olivettifaces.pkl','rb')    \n",
    "faces=pickle.load(read_file)    \n",
    "label=pickle.load(read_file)    \n",
    "read_file.close()"
   ]
  },
  {
   "cell_type": "code",
   "execution_count": 35,
   "metadata": {
    "collapsed": true
   },
   "outputs": [],
   "source": [
    "train_data=np.empty((320,2679))  \n",
    "train_label=np.empty(320)  \n",
    "valid_data=np.empty((40,2679))  \n",
    "valid_label=np.empty(40)  \n",
    "test_data=np.empty((40,2679))  \n",
    "test_label=np.empty(40)"
   ]
  },
  {
   "cell_type": "code",
   "execution_count": 36,
   "metadata": {
    "collapsed": true
   },
   "outputs": [],
   "source": [
    "for i in range(40):\n",
    "    train_data[i*8:i*8+8]=faces[i*10:i*10+8]\n",
    "    train_label[i*8:i*8+8]=label[i*10:i*10+8]\n",
    "    valid_data[i]=faces[i*10+8]\n",
    "    valid_label[i]=label[i*10+8]\n",
    "    test_data[i]=faces[i*10+9]\n",
    "    test_label[i]=label[i*10+9]"
   ]
  },
  {
   "cell_type": "code",
   "execution_count": 39,
   "metadata": {},
   "outputs": [
    {
     "name": "stdout",
     "output_type": "stream",
     "text": [
      "(320, 2679)\n",
      "(320, 57, 47, 1)\n"
     ]
    }
   ],
   "source": [
    "print(train_data.shape)\n",
    "train_data1=np.empty((320,57,47,1))  \n",
    "valid_data1=np.empty((40,57,47,1))  \n",
    "test_data1=np.empty((40,57,47,1))  \n",
    "train_data1=train_data.reshape(320,57,47)[:,:,:,np.newaxis]\n",
    "valid_data1=valid_data.reshape(40,57,47)[:,:,:,np.newaxis]\n",
    "test_data1=test_data.reshape(40,57,47)[:,:,:,np.newaxis]\n",
    "print(train_data1.shape)"
   ]
  },
  {
   "cell_type": "code",
   "execution_count": 43,
   "metadata": {},
   "outputs": [
    {
     "data": {
      "image/png": "[encoded data removed]",
      "text/plain": [
       "<matplotlib.figure.Figure at 0x7fc25713b208>"
      ]
     },
     "metadata": {},
     "output_type": "display_data"
    }
   ],
   "source": [
    "img1=train_data1[310].squeeze() \n",
    "pylab.imshow(img1)  \n",
    "pylab.gray()  \n",
    "pylab.show() "
   ]
  },
  {
   "cell_type": "code",
   "execution_count": 44,
   "metadata": {
    "collapsed": true
   },
   "outputs": [],
   "source": [
    "import tensorflow as tf\n",
    "EPOCHS = 60\n",
    "BATCH_SIZE = 100"
   ]
  },
  {
   "cell_type": "code",
   "execution_count": 45,
   "metadata": {},
   "outputs": [
    {
     "name": "stdout",
     "output_type": "stream",
     "text": [
      "done\n"
     ]
    }
   ],
   "source": [
    "from tensorflow.contrib.layers import flatten\n",
    "\n",
    "def LeNet(x):    \n",
    "    # Hyperparameters\n",
    "    mu = 0\n",
    "    sigma = 0.1\n",
    "    \n",
    "    # TODO: Layer 1: Convolutional. Input = 57x47x1. Output = 53x43x5.\n",
    "    W1 = tf.Variable(tf.truncated_normal(shape=(5, 5, 1, 5), mean = mu, stddev = sigma)) # weight1, 初始化权重, 57-5+1=53\n",
    "    # W1.shape: [filter_height, filter_width, in_channels, out_channels]\n",
    "    # 具体含义是[卷积核的高度，卷积核的宽度，图像通道数，卷积核个数]\n",
    "    #\n",
    "    # x：为需要做卷积的输入图像，它要求是一个Tensor，具有[batch, in_height, in_width, in_channels]这样的shape，\n",
    "    # 具体含义是[训练时一个batch的图片数量, 图片高度, 图片宽度, 图像通道数]，\n",
    "    # 注意这是一个4维的Tensor，要求类型为float32和float64其中之一\n",
    "    #\n",
    "    # strides：卷积时在图像每一维的步长，这是一个一维的向量，长度4\n",
    "    #\n",
    "    # padding：string类型的量，只能是\"SAME\",\"VALID\"其中之一，这个值决定了不同的卷积方式\n",
    "    x = tf.nn.conv2d(x, W1, strides=[1, 1, 1, 1], padding='VALID') # 实现卷积\n",
    "    b1 = tf.Variable(tf.zeros(5)) # bias1\n",
    "    x = tf.nn.bias_add(x, b1) # How does it work? the shape doesn't change\n",
    "    print(\"layer 1 shape:\",x.get_shape())\n",
    "\n",
    "    # TODO: Activation.\n",
    "    x = tf.nn.relu(x)\n",
    "    \n",
    "    # TODO: Pooling. Input = 53x43x5. Output = 26x21x5.\n",
    "    # ksize: The size of the window for each dimension of the input tensor.\n",
    "    # strides: The stride of the sliding window for each dimension of the input tensor.\n",
    "    x = tf.nn.max_pool(x, ksize=[1, 2, 2, 1], strides=[1, 2, 2, 1], padding='VALID')\n",
    "    \n",
    "    # TODO: Layer 2: Convolutional. Output = 22x17x10.\n",
    "    W2 = tf.Variable(tf.truncated_normal(shape=(5, 5, 5, 10), mean = mu, stddev = sigma))\n",
    "    x = tf.nn.conv2d(x, W2, strides=[1, 1, 1, 1], padding='VALID')\n",
    "    b2 = tf.Variable(tf.zeros(10))\n",
    "    x = tf.nn.bias_add(x, b2)\n",
    "                     \n",
    "    # TODO: Activation.\n",
    "    x = tf.nn.relu(x)\n",
    "\n",
    "    # TODO: Pooling. Input = 22x17x10. Output = 11x8x10.\n",
    "    x = tf.nn.max_pool(x, ksize=[1, 2, 2, 1], strides=[1, 2, 2, 1], padding='VALID')\n",
    "\n",
    "    # TODO: Flatten. Input = 11x8x10. Output = 880.\n",
    "    x = flatten(x)\n",
    "    \n",
    "    # TODO: Layer 3: Fully Connected. Input = 880. Output = 120.\n",
    "    W3 = tf.Variable(tf.truncated_normal(shape=(880, 120), mean = mu, stddev = sigma))\n",
    "    b3 = tf.Variable(tf.zeros(120))    \n",
    "    x = tf.add(tf.matmul(x, W3), b3)\n",
    "    \n",
    "    # TODO: Activation.\n",
    "    x = tf.nn.relu(x)\n",
    "    \n",
    "    # Dropout\n",
    "    x = tf.nn.dropout(x, keep_prob)\n",
    "\n",
    "    # TODO: Layer 4: Fully Connected. Input = 120. Output = 84.\n",
    "    W4 = tf.Variable(tf.truncated_normal(shape=(120, 84), mean = mu, stddev = sigma))\n",
    "    b4 = tf.Variable(tf.zeros(84)) \n",
    "    x = tf.add(tf.matmul(x, W4), b4)\n",
    "    \n",
    "    # TODO: Activation.\n",
    "    x = tf.nn.relu(x)\n",
    "    \n",
    "    # Dropout\n",
    "    x = tf.nn.dropout(x, keep_prob)\n",
    "    print(\"x shape:\",x.get_shape())\n",
    "    # TODO: Layer 5: Fully Connected. Input = 84. Output = 40.\n",
    "    W5 = tf.Variable(tf.truncated_normal(shape=(84, 40), mean = mu, stddev = sigma))\n",
    "    b5 = tf.Variable(tf.zeros(40)) \n",
    "    logits = tf.add(tf.matmul(x, W5), b5)\n",
    "    \n",
    "    return logits\n",
    "\n",
    "print('done')"
   ]
  },
  {
   "cell_type": "code",
   "execution_count": 46,
   "metadata": {},
   "outputs": [
    {
     "name": "stdout",
     "output_type": "stream",
     "text": [
      "done\n"
     ]
    }
   ],
   "source": [
    "tf.reset_default_graph() \n",
    "\n",
    "x = tf.placeholder(tf.float32, (None, 57, 47, 1))\n",
    "y = tf.placeholder(tf.int32, (None))\n",
    "keep_prob = tf.placeholder(tf.float32) # probability to keep units\n",
    "one_hot_y = tf.one_hot(y, 40)\n",
    "\n",
    "print('done')"
   ]
  },
  {
   "cell_type": "code",
   "execution_count": 47,
   "metadata": {},
   "outputs": [
    {
     "name": "stdout",
     "output_type": "stream",
     "text": [
      "layer 1 shape: (?, 53, 43, 5)\n",
      "x shape: (?, 84)\n"
     ]
    }
   ],
   "source": [
    "rate = 0.0009\n",
    "\n",
    "logits = LeNet(x)\n",
    "cross_entropy = tf.nn.softmax_cross_entropy_with_logits(logits=logits, labels=one_hot_y)\n",
    "loss_operation = tf.reduce_mean(cross_entropy)\n",
    "optimizer = tf.train.AdamOptimizer(learning_rate = rate) #adam optimizer\n",
    "training_operation = optimizer.minimize(loss_operation)"
   ]
  },
  {
   "cell_type": "code",
   "execution_count": 48,
   "metadata": {},
   "outputs": [
    {
     "name": "stdout",
     "output_type": "stream",
     "text": [
      "done\n"
     ]
    }
   ],
   "source": [
    "correct_prediction = tf.equal(tf.argmax(logits, 1), tf.argmax(one_hot_y, 1))\n",
    "accuracy_operation = tf.reduce_mean(tf.cast(correct_prediction, tf.float32))\n",
    "saver = tf.train.Saver()\n",
    "\n",
    "def evaluate(X_data, y_data):\n",
    "    num_examples = len(X_data)\n",
    "    total_accuracy = 0\n",
    "    sess = tf.get_default_session()\n",
    "    for offset in range(0, num_examples, BATCH_SIZE):\n",
    "        batch_x, batch_y = X_data[offset:offset+BATCH_SIZE], y_data[offset:offset+BATCH_SIZE]\n",
    "        accuracy = sess.run(accuracy_operation, feed_dict={x: batch_x, y: batch_y, keep_prob: 1.0}) #keep_prob?\n",
    "        total_accuracy += (accuracy * len(batch_x))\n",
    "    return total_accuracy / num_examples\n",
    "\n",
    "print('done')"
   ]
  },
  {
   "cell_type": "code",
   "execution_count": 52,
   "metadata": {},
   "outputs": [
    {
     "name": "stdout",
     "output_type": "stream",
     "text": [
      "Training...\n",
      "\n",
      "EPOCH 1 ...\n",
      "Validation Accuracy = 0.025\n",
      "\n",
      "EPOCH 2 ...\n",
      "Validation Accuracy = 0.025\n",
      "\n",
      "EPOCH 3 ...\n",
      "Validation Accuracy = 0.000\n",
      "\n",
      "EPOCH 4 ...\n",
      "Validation Accuracy = 0.025\n",
      "\n",
      "EPOCH 5 ...\n",
      "Validation Accuracy = 0.025\n",
      "\n",
      "EPOCH 6 ...\n",
      "Validation Accuracy = 0.025\n",
      "\n",
      "EPOCH 7 ...\n",
      "Validation Accuracy = 0.025\n",
      "\n",
      "EPOCH 8 ...\n",
      "Validation Accuracy = 0.025\n",
      "\n",
      "EPOCH 9 ...\n",
      "Validation Accuracy = 0.025\n",
      "\n",
      "EPOCH 10 ...\n",
      "Validation Accuracy = 0.025\n",
      "\n",
      "EPOCH 11 ...\n",
      "Validation Accuracy = 0.025\n",
      "\n",
      "EPOCH 12 ...\n",
      "Validation Accuracy = 0.025\n",
      "\n",
      "EPOCH 13 ...\n",
      "Validation Accuracy = 0.025\n",
      "\n",
      "EPOCH 14 ...\n",
      "Validation Accuracy = 0.025\n",
      "\n",
      "EPOCH 15 ...\n",
      "Validation Accuracy = 0.025\n",
      "\n",
      "EPOCH 16 ...\n",
      "Validation Accuracy = 0.025\n",
      "\n",
      "EPOCH 17 ...\n",
      "Validation Accuracy = 0.025\n",
      "\n",
      "EPOCH 18 ...\n",
      "Validation Accuracy = 0.025\n",
      "\n",
      "EPOCH 19 ...\n",
      "Validation Accuracy = 0.025\n",
      "\n",
      "EPOCH 20 ...\n",
      "Validation Accuracy = 0.025\n",
      "\n",
      "EPOCH 21 ...\n",
      "Validation Accuracy = 0.025\n",
      "\n",
      "EPOCH 22 ...\n",
      "Validation Accuracy = 0.025\n",
      "\n",
      "EPOCH 23 ...\n",
      "Validation Accuracy = 0.025\n",
      "\n",
      "EPOCH 24 ...\n",
      "Validation Accuracy = 0.025\n",
      "\n",
      "EPOCH 25 ...\n",
      "Validation Accuracy = 0.050\n",
      "\n",
      "EPOCH 26 ...\n",
      "Validation Accuracy = 0.050\n",
      "\n",
      "EPOCH 27 ...\n",
      "Validation Accuracy = 0.050\n",
      "\n",
      "EPOCH 28 ...\n",
      "Validation Accuracy = 0.075\n",
      "\n",
      "EPOCH 29 ...\n",
      "Validation Accuracy = 0.075\n",
      "\n",
      "EPOCH 30 ...\n",
      "Validation Accuracy = 0.075\n",
      "\n",
      "EPOCH 31 ...\n",
      "Validation Accuracy = 0.075\n",
      "\n",
      "EPOCH 32 ...\n",
      "Validation Accuracy = 0.075\n",
      "\n",
      "EPOCH 33 ...\n",
      "Validation Accuracy = 0.075\n",
      "\n",
      "EPOCH 34 ...\n",
      "Validation Accuracy = 0.075\n",
      "\n",
      "EPOCH 35 ...\n",
      "Validation Accuracy = 0.075\n",
      "\n",
      "EPOCH 36 ...\n",
      "Validation Accuracy = 0.125\n",
      "\n",
      "EPOCH 37 ...\n",
      "Validation Accuracy = 0.125\n",
      "\n",
      "EPOCH 38 ...\n",
      "Validation Accuracy = 0.125\n",
      "\n",
      "EPOCH 39 ...\n",
      "Validation Accuracy = 0.125\n",
      "\n",
      "EPOCH 40 ...\n",
      "Validation Accuracy = 0.125\n",
      "\n",
      "EPOCH 41 ...\n",
      "Validation Accuracy = 0.150\n",
      "\n",
      "EPOCH 42 ...\n",
      "Validation Accuracy = 0.125\n",
      "\n",
      "EPOCH 43 ...\n",
      "Validation Accuracy = 0.175\n",
      "\n",
      "EPOCH 44 ...\n",
      "Validation Accuracy = 0.200\n",
      "\n",
      "EPOCH 45 ...\n",
      "Validation Accuracy = 0.200\n",
      "\n",
      "EPOCH 46 ...\n",
      "Validation Accuracy = 0.175\n",
      "\n",
      "EPOCH 47 ...\n",
      "Validation Accuracy = 0.175\n",
      "\n",
      "EPOCH 48 ...\n",
      "Validation Accuracy = 0.275\n",
      "\n",
      "EPOCH 49 ...\n",
      "Validation Accuracy = 0.275\n",
      "\n",
      "EPOCH 50 ...\n",
      "Validation Accuracy = 0.300\n",
      "\n",
      "EPOCH 51 ...\n",
      "Validation Accuracy = 0.250\n",
      "\n",
      "EPOCH 52 ...\n",
      "Validation Accuracy = 0.400\n",
      "\n",
      "EPOCH 53 ...\n",
      "Validation Accuracy = 0.400\n",
      "\n",
      "EPOCH 54 ...\n",
      "Validation Accuracy = 0.425\n",
      "\n",
      "EPOCH 55 ...\n",
      "Validation Accuracy = 0.450\n",
      "\n",
      "EPOCH 56 ...\n",
      "Validation Accuracy = 0.475\n",
      "\n",
      "EPOCH 57 ...\n",
      "Validation Accuracy = 0.450\n",
      "\n",
      "EPOCH 58 ...\n",
      "Validation Accuracy = 0.450\n",
      "\n",
      "EPOCH 59 ...\n",
      "Validation Accuracy = 0.475\n",
      "\n",
      "EPOCH 60 ...\n",
      "Validation Accuracy = 0.500\n",
      "\n",
      "Model saved\n"
     ]
    }
   ],
   "source": [
    "with tf.Session() as sess:\n",
    "    sess.run(tf.global_variables_initializer())\n",
    "    num_examples = len(train_data1)\n",
    "    \n",
    "    print(\"Training...\")\n",
    "    print()\n",
    "    for i in range(EPOCHS):\n",
    "        for offset in range(0, num_examples, BATCH_SIZE):\n",
    "            end = offset + BATCH_SIZE\n",
    "            batch_x, batch_y = train_data1[offset:end], train_label[offset:end]\n",
    "            sess.run(training_operation, feed_dict={x: batch_x, y: batch_y, keep_prob: 0.5})\n",
    "            \n",
    "        validation_accuracy = evaluate(valid_data1, valid_label)\n",
    "        print(\"EPOCH {} ...\".format(i+1))\n",
    "        print(\"Validation Accuracy = {:.3f}\".format(validation_accuracy))\n",
    "        print()\n",
    "        \n",
    "    saver.save(sess, 'lenet')\n",
    "    print(\"Model saved\")"
   ]
  },
  {
   "cell_type": "code",
   "execution_count": null,
   "metadata": {
    "collapsed": true
   },
   "outputs": [],
   "source": []
  }
 ],
 "metadata": {
  "kernelspec": {
   "display_name": "Python 3",
   "language": "python",
   "name": "python3"
  },
  "language_info": {
   "codemirror_mode": {
    "name": "ipython",
    "version": 3
   },
   "file_extension": ".py",
   "mimetype": "text/x-python",
   "name": "python",
   "nbconvert_exporter": "python",
   "pygments_lexer": "ipython3",
   "version": "3.6.1"
  }
 },
 "nbformat": 4,
 "nbformat_minor": 2
}
